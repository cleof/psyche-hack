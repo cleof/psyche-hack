{
 "cells": [
  {
   "cell_type": "code",
   "execution_count": null,
   "metadata": {},
   "outputs": [],
   "source": [
    "import pandas as pd\n",
    "import numpy as np\n",
    "import matplotlib.pyplot as plt\n",
    "import seaborn as sns\n",
    "from textblob import TextBlob\n",
    "from nltk.corpus import stopwords\n",
    "import nltk\n",
    "from collections import defaultdict\n",
    "%matplotlib inline"
   ]
  },
  {
   "cell_type": "code",
   "execution_count": null,
   "metadata": {},
   "outputs": [],
   "source": [
    "data_p = '../../data/'\n",
    "stop_words = set(stopwords.words('english'))"
   ]
  },
  {
   "cell_type": "code",
   "execution_count": null,
   "metadata": {},
   "outputs": [],
   "source": [
    "df = pd.read_csv(data_p + 'clean_messages.csv')\n",
    "df['date_time'] = pd.to_datetime(df['date_time'])\n",
    "df = df.dropna()\n",
    "df.index = range(len(df))\n",
    "df.head()"
   ]
  },
  {
   "cell_type": "code",
   "execution_count": null,
   "metadata": {},
   "outputs": [],
   "source": [
    "for col in ['year', 'month', 'day', 'hour', 'weekday']:\n",
    "    sns.countplot(df[col])\n",
    "    plt.title(col)\n",
    "    plt.show()"
   ]
  },
  {
   "cell_type": "code",
   "execution_count": null,
   "metadata": {},
   "outputs": [],
   "source": [
    "df.groupby('year').count()"
   ]
  },
  {
   "cell_type": "code",
   "execution_count": null,
   "metadata": {},
   "outputs": [],
   "source": [
    "df['polarity'] = [TextBlob(s).sentiment.polarity for s in df['content']]\n",
    "df['subjectivity'] = [TextBlob(s).sentiment.subjectivity for s in df['content']]\n",
    "df['word_list'] = [TextBlob(s).words.lemmatize() for s in df['content']]\n",
    "df['word_list'] = [[s for s in df.loc[j, 'word_list'] if s not in stop_words] for j in range(len(df))]\n",
    "print(list(df))\n",
    "df.head()"
   ]
  },
  {
   "cell_type": "code",
   "execution_count": null,
   "metadata": {},
   "outputs": [],
   "source": [
    "sns.distplot(df['polarity'])"
   ]
  },
  {
   "cell_type": "code",
   "execution_count": null,
   "metadata": {},
   "outputs": [],
   "source": [
    "top_names = list(df['sender_name'].value_counts().sort_values(ascending = False).index)[1:]"
   ]
  },
  {
   "cell_type": "code",
   "execution_count": null,
   "metadata": {},
   "outputs": [],
   "source": [
    "# word_freq = defaultdict(list)\n",
    "# df['yr_mo'] = [str(y) + str(m) for y,m in zip(df['year'],df['month'])]\n",
    "\n",
    "# for y in df['yr_mo'].unique():\n",
    "#     temp = df[df['yr_mo'] == y]\n",
    "#     all_words = []\n",
    "#     for i in temp.index:\n",
    "#         all_words += temp.loc[i, 'word_list']\n",
    "#     word_freq['yr_mo'].append(y)\n",
    "#     word_freq['words'].append(nltk.FreqDist(all_words).most_common(20))\n",
    "# word_freq = pd.DataFrame(word_freq)"
   ]
  },
  {
   "cell_type": "code",
   "execution_count": null,
   "metadata": {
    "scrolled": false
   },
   "outputs": [],
   "source": [
    "def plot_sentiment(name):\n",
    "    c = df[df['sender_name'] == name]\n",
    "    c['ma'] = c['polarity'].rolling(10).mean()\n",
    "    c = c.sort_values('date_time')\n",
    "    plt.plot(c['date_time'], c['ma'])\n",
    "    plt.title('Sentiment Analysis with ' + str(name))\n",
    "    plt.xticks(rotation = 30)\n",
    "    plt.show()\n",
    "    \n",
    "for name in top_names[:10]:\n",
    "    plot_sentiment(name)"
   ]
  },
  {
   "cell_type": "code",
   "execution_count": null,
   "metadata": {},
   "outputs": [],
   "source": []
  },
  {
   "cell_type": "code",
   "execution_count": null,
   "metadata": {},
   "outputs": [],
   "source": []
  },
  {
   "cell_type": "code",
   "execution_count": null,
   "metadata": {},
   "outputs": [],
   "source": []
  }
 ],
 "metadata": {
  "kernelspec": {
   "display_name": "Python 3",
   "language": "python",
   "name": "python3"
  },
  "language_info": {
   "codemirror_mode": {
    "name": "ipython",
    "version": 3
   },
   "file_extension": ".py",
   "mimetype": "text/x-python",
   "name": "python",
   "nbconvert_exporter": "python",
   "pygments_lexer": "ipython3",
   "version": "3.6.3"
  }
 },
 "nbformat": 4,
 "nbformat_minor": 2
}
