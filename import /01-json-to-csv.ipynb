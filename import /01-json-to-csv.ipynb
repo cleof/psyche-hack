{
 "cells": [
  {
   "cell_type": "code",
   "execution_count": 8,
   "metadata": {},
   "outputs": [],
   "source": [
    "import json, os\n",
    "import datetime\n",
    "import pandas as pd\n",
    "from pandas.io.json import json_normalize"
   ]
  },
  {
   "cell_type": "code",
   "execution_count": 9,
   "metadata": {},
   "outputs": [],
   "source": [
    "# Helper function\n",
    "def parse_json(infile):\n",
    "    with open(infile) as f:\n",
    "        data = json.load(f)\n",
    "    df = json_normalize(json_normalize(data).loc[0,'messages'])\n",
    "    df['date_time'] = [datetime.datetime.fromtimestamp(t/1000.0) for t in df['timestamp_ms']]\n",
    "    df['date_time'] = pd.to_datetime(df['date_time'])\n",
    "    df['year'] = [t.year for t in df['date_time']]\n",
    "    df['month'] = [t.month for t in df['date_time']]\n",
    "    df['day'] = [t.day for t in df['date_time']]\n",
    "    df['hour'] = [t.hour for t in df['date_time']]\n",
    "    return df[['content', 'timestamp_ms', 'type', 'date_time', 'year', 'month', 'day', 'hour']]"
   ]
  },
  {
   "cell_type": "code",
   "execution_count": 10,
   "metadata": {},
   "outputs": [],
   "source": [
    "dataset_p = '../../data'\n",
    "messages_p = dataset_p + '/messages/inbox/'"
   ]
  },
  {
   "cell_type": "code",
   "execution_count": 11,
   "metadata": {},
   "outputs": [
    {
     "name": "stdout",
     "output_type": "stream",
     "text": [
      "Total number of chats: 339\n"
     ]
    }
   ],
   "source": [
    "all_json = [messages_p + s + '/message.json' for s in sorted(os.listdir(messages_p))[1:]]\n",
    "print(\"Total number of chats:\", len(all_json))"
   ]
  },
  {
   "cell_type": "code",
   "execution_count": 15,
   "metadata": {},
   "outputs": [
    {
     "data": {
      "text/plain": [
       "(22108, 8)"
      ]
     },
     "execution_count": 15,
     "metadata": {},
     "output_type": "execute_result"
    }
   ],
   "source": [
    "for j in range(len(all_json)):\n",
    "    if j == 0:\n",
    "        try:\n",
    "            df = parse_json(all_json[j])\n",
    "        except:\n",
    "            continue\n",
    "    else:\n",
    "        try:\n",
    "            df = pd.concat([df, parse_json(all_json[j])], 0)\n",
    "        except:\n",
    "            continue\n",
    "df.shape"
   ]
  },
  {
   "cell_type": "code",
   "execution_count": 18,
   "metadata": {},
   "outputs": [
    {
     "data": {
      "text/html": [
       "<div>\n",
       "<style scoped>\n",
       "    .dataframe tbody tr th:only-of-type {\n",
       "        vertical-align: middle;\n",
       "    }\n",
       "\n",
       "    .dataframe tbody tr th {\n",
       "        vertical-align: top;\n",
       "    }\n",
       "\n",
       "    .dataframe thead th {\n",
       "        text-align: right;\n",
       "    }\n",
       "</style>\n",
       "<table border=\"1\" class=\"dataframe\">\n",
       "  <thead>\n",
       "    <tr style=\"text-align: right;\">\n",
       "      <th></th>\n",
       "      <th>content</th>\n",
       "      <th>timestamp_ms</th>\n",
       "      <th>type</th>\n",
       "      <th>date_time</th>\n",
       "      <th>year</th>\n",
       "      <th>month</th>\n",
       "      <th>day</th>\n",
       "      <th>hour</th>\n",
       "    </tr>\n",
       "  </thead>\n",
       "  <tbody>\n",
       "    <tr>\n",
       "      <th>0</th>\n",
       "      <td>how are you dear :)</td>\n",
       "      <td>1459907494895</td>\n",
       "      <td>Generic</td>\n",
       "      <td>2016-04-05 18:51:34.895</td>\n",
       "      <td>2016</td>\n",
       "      <td>4</td>\n",
       "      <td>5</td>\n",
       "      <td>18</td>\n",
       "    </tr>\n",
       "    <tr>\n",
       "      <th>1</th>\n",
       "      <td>take a rest</td>\n",
       "      <td>1459881248322</td>\n",
       "      <td>Generic</td>\n",
       "      <td>2016-04-05 11:34:08.322</td>\n",
       "      <td>2016</td>\n",
       "      <td>4</td>\n",
       "      <td>5</td>\n",
       "      <td>11</td>\n",
       "    </tr>\n",
       "    <tr>\n",
       "      <th>2</th>\n",
       "      <td>so you tired now</td>\n",
       "      <td>1459881243643</td>\n",
       "      <td>Generic</td>\n",
       "      <td>2016-04-05 11:34:03.643</td>\n",
       "      <td>2016</td>\n",
       "      <td>4</td>\n",
       "      <td>5</td>\n",
       "      <td>11</td>\n",
       "    </tr>\n",
       "    <tr>\n",
       "      <th>3</th>\n",
       "      <td>No it's okay</td>\n",
       "      <td>1459881221299</td>\n",
       "      <td>Generic</td>\n",
       "      <td>2016-04-05 11:33:41.299</td>\n",
       "      <td>2016</td>\n",
       "      <td>4</td>\n",
       "      <td>5</td>\n",
       "      <td>11</td>\n",
       "    </tr>\n",
       "    <tr>\n",
       "      <th>4</th>\n",
       "      <td>im sorry</td>\n",
       "      <td>1459881194549</td>\n",
       "      <td>Generic</td>\n",
       "      <td>2016-04-05 11:33:14.549</td>\n",
       "      <td>2016</td>\n",
       "      <td>4</td>\n",
       "      <td>5</td>\n",
       "      <td>11</td>\n",
       "    </tr>\n",
       "  </tbody>\n",
       "</table>\n",
       "</div>"
      ],
      "text/plain": [
       "               content   timestamp_ms     type               date_time  year  \\\n",
       "0  how are you dear :)  1459907494895  Generic 2016-04-05 18:51:34.895  2016   \n",
       "1          take a rest  1459881248322  Generic 2016-04-05 11:34:08.322  2016   \n",
       "2     so you tired now  1459881243643  Generic 2016-04-05 11:34:03.643  2016   \n",
       "3         No it's okay  1459881221299  Generic 2016-04-05 11:33:41.299  2016   \n",
       "4             im sorry  1459881194549  Generic 2016-04-05 11:33:14.549  2016   \n",
       "\n",
       "   month  day  hour  \n",
       "0      4    5    18  \n",
       "1      4    5    11  \n",
       "2      4    5    11  \n",
       "3      4    5    11  \n",
       "4      4    5    11  "
      ]
     },
     "execution_count": 18,
     "metadata": {},
     "output_type": "execute_result"
    }
   ],
   "source": [
    "df.head()"
   ]
  },
  {
   "cell_type": "code",
   "execution_count": 17,
   "metadata": {},
   "outputs": [],
   "source": [
    "df.to_csv(dataset_p + '/clean_messages.csv', index = None)"
   ]
  },
  {
   "cell_type": "code",
   "execution_count": null,
   "metadata": {},
   "outputs": [],
   "source": []
  }
 ],
 "metadata": {
  "kernelspec": {
   "display_name": "Python 3",
   "language": "python",
   "name": "python3"
  },
  "language_info": {
   "codemirror_mode": {
    "name": "ipython",
    "version": 3
   },
   "file_extension": ".py",
   "mimetype": "text/x-python",
   "name": "python",
   "nbconvert_exporter": "python",
   "pygments_lexer": "ipython3",
   "version": "3.6.3"
  }
 },
 "nbformat": 4,
 "nbformat_minor": 2
}
