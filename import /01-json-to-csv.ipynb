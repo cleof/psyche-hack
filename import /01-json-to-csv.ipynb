{
 "cells": [
  {
   "cell_type": "code",
   "execution_count": 2,
   "metadata": {},
   "outputs": [],
   "source": [
    "import json, os\n",
    "import datetime\n",
    "import pandas as pd\n",
    "from pandas.io.json import json_normalize"
   ]
  },
  {
   "cell_type": "code",
   "execution_count": 3,
   "metadata": {},
   "outputs": [],
   "source": [
    "# Helper function\n",
    "def parse_json(infile):\n",
    "    with open(infile) as f:\n",
    "        data = json.load(f)\n",
    "    df = json_normalize(json_normalize(data).loc[0,'messages'])\n",
    "    df['date_time'] = [datetime.datetime.fromtimestamp(t/1000.0) for t in df['timestamp_ms']]\n",
    "    df['date_time'] = pd.to_datetime(df['date_time'])\n",
    "    df['year'] = [t.year for t in df['date_time']]\n",
    "    df['month'] = [t.month for t in df['date_time']]\n",
    "    df['day'] = [t.day for t in df['date_time']]\n",
    "    df['hour'] = [t.hour for t in df['date_time']]\n",
    "    df['weekday'] = [t.weekday() for t in df['date_time']]\n",
    "    return df[['content', 'sender_name', 'timestamp_ms', 'type', 'date_time', 'year', 'month', 'day', 'hour', 'weekday']]"
   ]
  },
  {
   "cell_type": "code",
   "execution_count": 4,
   "metadata": {},
   "outputs": [],
   "source": [
    "dataset_p = '../../data'\n",
    "messages_p = dataset_p + '/messages/inbox/'"
   ]
  },
  {
   "cell_type": "code",
   "execution_count": 5,
   "metadata": {},
   "outputs": [
    {
     "name": "stdout",
     "output_type": "stream",
     "text": [
      "Total number of chats: 339\n"
     ]
    }
   ],
   "source": [
    "all_json = [messages_p + s + '/message.json' for s in sorted(os.listdir(messages_p))[1:]]\n",
    "print(\"Total number of chats:\", len(all_json))"
   ]
  },
  {
   "cell_type": "code",
   "execution_count": null,
   "metadata": {},
   "outputs": [],
   "source": [
    "for j in range(len(all_json)):\n",
    "    if j == 0:\n",
    "        try:\n",
    "            df = parse_json(all_json[j])\n",
    "        except:\n",
    "            continue\n",
    "    else:\n",
    "        try:\n",
    "            df = pd.concat([df, parse_json(all_json[j])], 0)\n",
    "        except:\n",
    "            continue\n",
    "df.shape"
   ]
  },
  {
   "cell_type": "code",
   "execution_count": null,
   "metadata": {},
   "outputs": [],
   "source": [
    "df.head()"
   ]
  },
  {
   "cell_type": "code",
   "execution_count": null,
   "metadata": {},
   "outputs": [],
   "source": [
    "df.to_csv(dataset_p + '/clean_messages.csv', index = None)"
   ]
  },
  {
   "cell_type": "code",
   "execution_count": null,
   "metadata": {},
   "outputs": [],
   "source": []
  }
 ],
 "metadata": {
  "kernelspec": {
   "display_name": "Python 3",
   "language": "python",
   "name": "python3"
  },
  "language_info": {
   "codemirror_mode": {
    "name": "ipython",
    "version": 3
   },
   "file_extension": ".py",
   "mimetype": "text/x-python",
   "name": "python",
   "nbconvert_exporter": "python",
   "pygments_lexer": "ipython3",
   "version": "3.6.3"
  }
 },
 "nbformat": 4,
 "nbformat_minor": 2
}
